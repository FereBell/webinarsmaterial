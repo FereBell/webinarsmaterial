{
  "nbformat": 4,
  "nbformat_minor": 0,
  "metadata": {
    "colab": {
      "name": "Aumento de datos.ipynb",
      "provenance": []
    },
    "kernelspec": {
      "name": "python3",
      "display_name": "Python 3"
    },
    "language_info": {
      "name": "python"
    }
  },
  "cells": [
    {
      "cell_type": "code",
      "execution_count": null,
      "metadata": {
        "id": "xT4T3jCafG13"
      },
      "outputs": [],
      "source": [
        "from tensorflow.keras.preprocessing.image import ImageDataGenerator, img_to_array, load_img\n",
        "import matplotlib.pyplot as plt\n",
        "from google.colab import drive\n",
        "import numpy as np\n",
        "import os\n",
        "\n",
        "\n",
        "drive.mount('/content/drive')"
      ]
    },
    {
      "cell_type": "code",
      "source": [
        "!unzip \"/content/drive/MyDrive/Bases/brain_tumor.zip\" -d \"/content/sample_data/\""
      ],
      "metadata": {
        "id": "utSGkM-4gzFE"
      },
      "execution_count": null,
      "outputs": []
    },
    {
      "cell_type": "code",
      "source": [
        "def aumento_d(DIR_img, dir_save_im):\n",
        "    \n",
        "    datagen = ImageDataGenerator(\n",
        "        rotation_range=40,\n",
        "        width_shift_range=0.1,\n",
        "        height_shift_range=0.1,\n",
        "        shear_range=0.1,\n",
        "        zoom_range=0.1,\n",
        "        horizontal_flip=True,\n",
        "        fill_mode='nearest')\n",
        "    \n",
        "\n",
        "    si= os.listdir(DIR_img)\n",
        "\n",
        "    aum_n= 2\n",
        "    aum_m= int(aum_n/2)\n",
        "\n",
        "    for i in range (len(si)):\n",
        "\n",
        "        im= os.path.join(DIR_img, si[i])\n",
        "        img= img_to_array(load_img(im, target_size= (160, 160)))\n",
        "\n",
        "        x_new= np.zeros((aum_n+img.shape[0], aum_n+img.shape[1], 3), dtype= 'float')\n",
        "        x_new[aum_m:-aum_m, aum_m:-aum_m, :]= img\n",
        "\n",
        "        x= x_new.reshape((1,) + x_new.shape)      \n",
        "        c= datagen.flow(x, batch_size=1, save_to_dir=dir_save_im,save_prefix='im_', save_format='png')\n",
        "        \n",
        "        for tx in range(10):\n",
        "            c.next()\n",
        "\n",
        "\n",
        "\n",
        "dir_save_im= \"/content/sample_data/aumento/val/si/\"\n",
        "\n",
        "DIR_img= \"/content/sample_data/brain_tumor_dataset/val/si\"\n",
        "aumento_d(DIR_img, dir_save_im)"
      ],
      "metadata": {
        "id": "Ik99j-aufJna"
      },
      "execution_count": null,
      "outputs": []
    },
    {
      "cell_type": "code",
      "source": [
        "fig, axs= plt.subplots(2, 2)\n",
        "axs[0, 0].imshow(plt.imread('/content/sample_data/aumento/ent/si/im__0_1004.png')); axs[0, 0].get_xaxis().set_visible(False); axs[0, 0].get_yaxis().set_visible(False)\n",
        "axs[0, 1].imshow(plt.imread('/content/sample_data/aumento/ent/si/im__0_1014.png')); axs[0, 1].get_xaxis().set_visible(False); axs[0, 1].get_yaxis().set_visible(False)\n",
        "axs[1, 0].imshow(plt.imread('/content/sample_data/aumento/ent/si/im__0_1006.png')); axs[1, 0].get_xaxis().set_visible(False); axs[1, 0].get_yaxis().set_visible(False)\n",
        "axs[1, 1].imshow(plt.imread('/content/sample_data/aumento/ent/si/im__0_1013.png')); axs[1, 1].get_xaxis().set_visible(False); axs[1, 1].get_yaxis().set_visible(False)\n",
        "  \n",
        "plt.show() "
      ],
      "metadata": {
        "id": "oBPDL2exkR2I"
      },
      "execution_count": null,
      "outputs": []
    },
    {
      "cell_type": "code",
      "source": [
        "!zip -r \"/content/drive/MyDrive/Bases/aumento_img.zip\" \"/content/sample_data/aumento\""
      ],
      "metadata": {
        "id": "QF6yWGP4hFM6"
      },
      "execution_count": null,
      "outputs": []
    },
    {
      "cell_type": "code",
      "source": [
        ""
      ],
      "metadata": {
        "id": "7re3AM6OlyDV"
      },
      "execution_count": null,
      "outputs": []
    }
  ]
}