{
  "nbformat": 4,
  "nbformat_minor": 0,
  "metadata": {
    "colab": {
      "name": "Pre_entrenados.ipynb",
      "provenance": [],
      "collapsed_sections": [],
      "machine_shape": "hm"
    },
    "kernelspec": {
      "name": "python3",
      "display_name": "Python 3"
    },
    "language_info": {
      "name": "python"
    },
    "accelerator": "GPU"
  },
  "cells": [
    {
      "cell_type": "code",
      "source": [
        "from tensorflow.keras.applications import VGG16, VGG19, ResNet50, ResNet101, MobileNet, EfficientNetB7\n",
        "from keras.preprocessing.image import ImageDataGenerator\n",
        "from tensorflow.keras.callbacks import ModelCheckpoint\n",
        "from tensorflow.keras.layers import Dense\n",
        "from tensorflow.keras.models import Model\n",
        "from google.colab import drive\n",
        "import tensorflow as tf\n",
        "\n",
        "\n",
        "\n",
        "drive.mount('/content/drive')"
      ],
      "metadata": {
        "id": "ZyClDfwTcnxJ"
      },
      "execution_count": null,
      "outputs": []
    },
    {
      "cell_type": "code",
      "source": [
        "tf.test.gpu_device_name()\n",
        "!/opt/bin/nvidia-smi"
      ],
      "metadata": {
        "id": "akyZRbA4Kdby"
      },
      "execution_count": null,
      "outputs": []
    },
    {
      "cell_type": "code",
      "source": [
        "!unrar x '/content/drive/MyDrive/Base de datos/human_data.rar' \"/content/sample_data/\"\n",
        "\n",
        "#!unzip '/content/drive/MyDrive/Base de datos/aumento_tumor.zip' -d \"/content/sample_data/\""
      ],
      "metadata": {
        "id": "W5RhNPS3Kl9S"
      },
      "execution_count": null,
      "outputs": []
    },
    {
      "cell_type": "code",
      "source": [
        "def generador_datos(input_dir, target_dir, img_s, b_size= 16, tipo_c= 'categorical', img_c= 'rgb'):\n",
        "\n",
        "  generador_ent= ImageDataGenerator(rescale= 1/255.0)\n",
        "  generador_val= ImageDataGenerator(rescale= 1/255.0)\n",
        "\n",
        "\n",
        "  ent_gen= generador_ent.flow_from_directory(input_dir,\n",
        "                                            class_mode= tipo_c,\n",
        "                                            target_size= img_s,\n",
        "                                            batch_size= b_size,\n",
        "                                            color_mode= img_c,\n",
        "                                            shuffle= True,\n",
        "                                            )\n",
        "\n",
        "  val_gen= generador_val.flow_from_directory(target_dir,\n",
        "                                            class_mode= tipo_c,\n",
        "                                            target_size= img_s,\n",
        "                                            color_mode= img_c,\n",
        "                                            batch_size= b_size,\n",
        "                                            shuffle= True,\n",
        "                                            )\n",
        "  \n",
        "  return ent_gen, val_gen"
      ],
      "metadata": {
        "id": "qjL6YyQgK0km"
      },
      "execution_count": null,
      "outputs": []
    },
    {
      "cell_type": "code",
      "source": [
        "def func(name_model):\n",
        "    print('Modelo seleccionado => {} '.format(name_model))\n",
        "    \n",
        "    pre_model = name_model(input_shape=(200, 200, 3),\n",
        "                   include_top= False,\n",
        "                   weights= 'imagenet',\n",
        "                   pooling= 'avg')\n",
        "    \n",
        "    pre_model.trainable = True\n",
        "    inputs = pre_model.input\n",
        "    x = Dense(1024, activation='relu')(pre_model.output)\n",
        "    x = Dense(1024, activation='relu')(x)\n",
        "    outputs = Dense(2, activation='softmax')(x)\n",
        "    \n",
        "    model = Model(inputs=inputs, outputs=outputs)\n",
        "\n",
        "    return model"
      ],
      "metadata": {
        "id": "1WUmAYXQK3ow"
      },
      "execution_count": null,
      "outputs": []
    },
    {
      "cell_type": "code",
      "source": [
        "def ent_c(model, epocas, ent_gen, val_gen, opt= 'Adam', perd= 'categorical_crossentropy', resumen= False):\n",
        "  \n",
        "  #checkpoint= ModelCheckpoint(\"VGG19.hdf5\", monitor= 'val_loss', save_best_only= True, mode= 'min', save_weights_only= False)\n",
        "  model.compile(loss = perd, optimizer= opt, metrics=['accuracy'])\n",
        "  model.summary() if resumen== True else None\n",
        "  history = model.fit(ent_gen, validation_data=val_gen, epochs=epocas)#, callbacks= checkpoint)"
      ],
      "metadata": {
        "id": "B-hrg4tjcM5S"
      },
      "execution_count": null,
      "outputs": []
    },
    {
      "cell_type": "code",
      "source": [
        "ent_gen, val_gen= generador_datos('/content/sample_data/content/sample_data/aumento/ent',\n",
        "                                  '/content/sample_data/content/sample_data/aumento/val', (200, 200))"
      ],
      "metadata": {
        "id": "PN3Y82qqc-iF"
      },
      "execution_count": null,
      "outputs": []
    },
    {
      "cell_type": "code",
      "source": [
        "model= func(MobileNet)"
      ],
      "metadata": {
        "id": "8cOpvm6HLOkk"
      },
      "execution_count": null,
      "outputs": []
    },
    {
      "cell_type": "code",
      "source": [
        "ent_c(model, 5, ent_gen, val_gen, opt= 'Adam', perd= 'categorical_crossentropy', resumen= False)"
      ],
      "metadata": {
        "id": "73IqeL4VLOHf"
      },
      "execution_count": null,
      "outputs": []
    },
    {
      "cell_type": "code",
      "source": [
        ""
      ],
      "metadata": {
        "id": "LAQPF7JYLqSZ"
      },
      "execution_count": null,
      "outputs": []
    }
  ]
}